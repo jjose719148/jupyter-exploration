{
 "cells": [
  {
   "cell_type": "markdown",
   "id": "995040af",
   "metadata": {},
   "source": [
    "code cells are what are used to rune python code within Jupyter notebook\n",
    "Markdown cells ar text within Jupyter notebooks that direct the user on what is occuring in the notebook"
   ]
  },
  {
   "cell_type": "code",
   "execution_count": 1,
   "id": "5cf5805e",
   "metadata": {},
   "outputs": [
    {
     "name": "stdout",
     "output_type": "stream",
     "text": [
      "Hello World\n"
     ]
    }
   ],
   "source": [
    "print(\"Hello World\")"
   ]
  },
  {
   "cell_type": "markdown",
   "id": "f193d3a0",
   "metadata": {},
   "source": [
    "My first markdown cell in Jupyter"
   ]
  }
 ],
 "metadata": {
  "kernelspec": {
   "display_name": "Python 3 (ipykernel)",
   "language": "python",
   "name": "python3"
  },
  "language_info": {
   "codemirror_mode": {
    "name": "ipython",
    "version": 3
   },
   "file_extension": ".py",
   "mimetype": "text/x-python",
   "name": "python",
   "nbconvert_exporter": "python",
   "pygments_lexer": "ipython3",
   "version": "3.9.7"
  }
 },
 "nbformat": 4,
 "nbformat_minor": 5
}
